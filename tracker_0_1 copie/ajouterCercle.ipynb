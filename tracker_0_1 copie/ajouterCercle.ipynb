{
 "cells": [
  {
   "cell_type": "markdown",
   "metadata": {},
   "source": [
    "### Modification en Python d'une page html\n",
    "\n",
    "L'objectif de ce notebook est de montrer comment ajouter facilement un cercle à une position et d'un diamètre donné sur notre carte.\n",
    "![](carte_0.png)\n",
    "![](carte_2.png)\n",
    "\n",
    "#### Lecture du contenu d'une page html.\n",
    "\n",
    "Une page html est un fichier texte. Voyons comment récuperer son contenu. Ici le fichier html a pour nom *page_1.html* et il est situé dans le même dossier que le notebook que nous utilisons."
   ]
  },
  {
   "cell_type": "code",
   "execution_count": 2,
   "metadata": {},
   "outputs": [
    {
     "name": "stdout",
     "output_type": "stream",
     "text": [
      "\n",
      " <!DOCTYPE html>\n",
      "<html>\n",
      "<head>\n",
      "<title>Page Title</title>\n",
      "</head>\n",
      "<body>\n",
      "\n",
      "<h1>Titre_1</h1>\n",
      "<p>Paragraphe_1</p>\n",
      "\n",
      "<!-- commentaires -->\n",
      "\n",
      "</body>\n",
      "</html> \n",
      "\n",
      "********************************************************************************\n"
     ]
    }
   ],
   "source": [
    "f = open('page_1.html','r', encoding='utf8') # ouverture du fichier qui est dans le même répertoire que mon script.\n",
    "# la fonction open attend deux arguments : le nom du fichier à ouvrir, \n",
    "# et le mode d'ouverture 'r' signifie lecture ici. \n",
    "contenu = f.read()\n",
    "print(contenu)  # affichage dans le notebook du contenu du fichier\n",
    "print(\"********************************************************************************\")\n",
    "f.close()"
   ]
  },
  {
   "cell_type": "markdown",
   "metadata": {},
   "source": [
    "#### Copie d'une page html\n",
    "\n",
    "Nous apprenons à faire une copie car il vaut mieux travailler sur une copie...."
   ]
  },
  {
   "cell_type": "code",
   "execution_count": 3,
   "metadata": {},
   "outputs": [
    {
     "name": "stdout",
     "output_type": "stream",
     "text": [
      "\n",
      " <!DOCTYPE html>\n",
      "<html>\n",
      "<head>\n",
      "<title>Page Title</title>\n",
      "</head>\n",
      "<body>\n",
      "\n",
      "<h1>Titre_1</h1>\n",
      "<p>Paragraphe_1</p>\n",
      "\n",
      "<!-- commentaires -->\n",
      "\n",
      "</body>\n",
      "</html> \n",
      "\n"
     ]
    }
   ],
   "source": [
    "f = open('page_1.html','r', encoding='utf8') # ouverture du fichier qui est dans le même répertoire que mon script.\n",
    "contenu = f.read()# la fonction open attend deux arguments : le nom du cfichier à ouvrir, \n",
    "                  # et le mode d'ouverture 'r' signifie lecture ici. \n",
    "f.close()\n",
    "\n",
    "# Exemple pour le mode 'w' ; nous allons ouvrir un autre fichier en écriture\n",
    "f =  open('maPage_1.html','w', encoding='utf8') #exemple pour le mode 'w'\n",
    "f.write(contenu) # on place une chaine de caractères dans le  fichier\n",
    "f.close()\n",
    "\n",
    "f = open('maPage_1.html','r', encoding='utf8') #On recharge en lecture le ficher\n",
    "contenu= f.read() #Lecture\n",
    "print(contenu) #visualisation\n"
   ]
  },
  {
   "cell_type": "markdown",
   "metadata": {},
   "source": [
    "#### Modification d'une page html.\n",
    "\n",
    "Avant d'enregistrer la copie, modifions un peu le contenu.\n",
    "\n",
    "Nous utiliserons la fonction *replace(ancienne_chaine_de_car, nouvelle_chaine_de_car)*"
   ]
  },
  {
   "cell_type": "code",
   "execution_count": 4,
   "metadata": {},
   "outputs": [
    {
     "name": "stdout",
     "output_type": "stream",
     "text": [
      "\n",
      " <!DOCTYPE html>\n",
      "<html>\n",
      "<head>\n",
      "<title>Page Title</title>\n",
      "</head>\n",
      "<body>\n",
      "\n",
      "<h1>Titre_1</h1>\n",
      "<p>Paragraphe_1</p>\n",
      "\n",
      "<!-- commentaires -->\n",
      "\n",
      "</body>\n",
      "</html> \n",
      "\n",
      "********************************************************************************\n",
      "\n",
      " <!DOCTYPE html>\n",
      "<html>\n",
      "<head>\n",
      "<title>Page Title</title>\n",
      "</head>\n",
      "<body>\n",
      "\n",
      "<h1>Bonjour</h1>\n",
      "<p>Paragraphe_1</p>\n",
      "\n",
      "<!-- commentaires -->\n",
      "\n",
      "</body>\n",
      "</html> \n",
      "\n"
     ]
    }
   ],
   "source": [
    "f = open('page_1.html','r', encoding='utf8') # ouverture du fichier qui est dans le même répertoire que mon script.\n",
    "contenu = f.read()# la fonction open attend deux arguments : le nomn du cfichier à ouvrir (ici exemple.txt), \n",
    "print(contenu) # et le mode d'ouverture 'r' signifie lecture ici. \n",
    "print(\"********************************************************************************\")\n",
    "f.close() # le fichier d'origine ne peut plus être modifié\n",
    "# mais nous conservons dans une variable le contenu de ce fichier\n",
    "\n",
    "contenu = contenu.replace(\"Titre_1\",\"Bonjour\") # on remplace Titre_1 par Bonjour\n",
    "\n",
    "# Exemple pour le mode 'w' \n",
    "f =  open('maPage_1.html','w', encoding='utf8') #exemple pour le mode 'w'\n",
    "f.write(contenu) # Change le contenu du fichier\n",
    "f.close()\n",
    "\n",
    "f = open('maPage_1.html','r', encoding='utf8') #On recharge en lecture le ficher\n",
    "contenu= f.read() #Lecture\n",
    "print(contenu) #visualisation"
   ]
  },
  {
   "cell_type": "markdown",
   "metadata": {},
   "source": [
    "#### Insertion d'un bout de code html dans une page html.\n",
    "\n",
    "Les balises sont des caractères comme les autres dans le fichier html. Il est tout a fait possible d'en ajouter."
   ]
  },
  {
   "cell_type": "code",
   "execution_count": 5,
   "metadata": {},
   "outputs": [
    {
     "name": "stdout",
     "output_type": "stream",
     "text": [
      "\n",
      " <!DOCTYPE html>\n",
      "<html>\n",
      "<head>\n",
      "<title>Page Title</title>\n",
      "</head>\n",
      "<body>\n",
      "\n",
      "<h1>Titre_1</h1>\n",
      "<p>Paragraphe_1</p>\n",
      "\n",
      "<!-- commentaires -->\n",
      "\n",
      "</body>\n",
      "</html> \n",
      "\n",
      "********************************************************************************\n",
      "\n",
      " <!DOCTYPE html>\n",
      "<html>\n",
      "<head>\n",
      "<title>Page Title</title>\n",
      "</head>\n",
      "<body>\n",
      "\n",
      "<h1>Titre_1</h1>\n",
      "<p>Paragraphe_1</p>\n",
      "\n",
      "<p>J'ai 16 ans.</p>\n",
      "<!-- commentaires -->\n",
      "\n",
      "</body>\n",
      "</html> \n",
      "\n"
     ]
    }
   ],
   "source": [
    "f = open('page_1.html','r', encoding='utf8') # ouverture du fichier qui est dans le même répertoire que mon script.\n",
    "contenu = f.read()# la fonction open attend deux arguments : le nomn du cfichier à ouvrir (ici exemple.txt), \n",
    "print(contenu) # et le mode d'ouverture 'r' signifie lecture ici. \n",
    "print(\"********************************************************************************\")\n",
    "f.close()\n",
    "\n",
    "#on définit la chaine de caractères qui positionne l'ajout à effectuer\n",
    "a_remplacer=\"<!-- commentaires -->\"\n",
    "#on définit la chaine de caractère à ajouter\n",
    "a_ajouter=\"<p>J'ai 16 ans.</p>\"\n",
    "\n",
    "# mais on ajoute aussi la chaine de caractères initiale\n",
    "# pour faciliter une insertion ultérieure\n",
    "a_ajouter = a_ajouter + \"\\n\" + a_remplacer\n",
    "# on effectue le remplacement\n",
    "contenu = contenu.replace(a_remplacer, a_ajouter)\n",
    "\n",
    "# on enregistre le contenu modifié dans maPage_1.html \n",
    "f =  open('maPage_1.html','w', encoding='utf8') #exemple pour le mode 'w'\n",
    "f.write(contenu) # Change le contenu du fichier\n",
    "f.close()\n",
    "\n",
    "f = open('maPage_1.html','r', encoding='utf8') #On recharge en lecture le ficher\n",
    "contenu= f.read() #Lecture\n",
    "print(contenu) #visualisation"
   ]
  },
  {
   "cell_type": "markdown",
   "metadata": {},
   "source": [
    "#### Ecriture d'une fonction ajouter.\n",
    "\n",
    "Lorsqu'on souhaite remplacer un texte, la fonction *replace()* joue parfaitement son rôle et une seule ligne de code suffit. Pour effectuer proprement un ajout dans un texte il faut un peu plus de code. Il serait souhaitable d'écrire une fonction."
   ]
  },
  {
   "cell_type": "code",
   "execution_count": 6,
   "metadata": {},
   "outputs": [],
   "source": [
    "# texte_a_modifier : la chaine de caractères à modifier\n",
    "# id_position : la chaine de caractère qui identifie la position du texte à ajouter\n",
    "# ajout : la chaine de caractères à ajouter\n",
    "def ajouter(texte_a_modifier, id_position, ajout):\n",
    "    #on définit la chaine de caractères à remplacer\n",
    "    a_remplacer=id_position\n",
    "    #on définit la chaine de caractère à ajouter\n",
    "    a_ajouter=ajout\n",
    "\n",
    "    # mais on ajoute à cette chaine le commentaire initial\n",
    "    # pour faciliter une autre insertion \n",
    "    a_ajouter = a_ajouter + \"\\n\" + a_remplacer\n",
    "    # on effectuer le remplacement\n",
    "    texte_a_modifier = texte_a_modifier.replace(a_remplacer, a_ajouter)\n",
    "    \n",
    "    return texte_a_modifier\n",
    "\n",
    "    "
   ]
  },
  {
   "cell_type": "markdown",
   "metadata": {},
   "source": [
    "Maintenant un ajout dans un fichier texte ou html se fait en 1 seule ligne."
   ]
  },
  {
   "cell_type": "code",
   "execution_count": 7,
   "metadata": {},
   "outputs": [
    {
     "name": "stdout",
     "output_type": "stream",
     "text": [
      "\n",
      " <!DOCTYPE html>\n",
      "<html>\n",
      "<head>\n",
      "<title>Page Title</title>\n",
      "</head>\n",
      "<body>\n",
      "\n",
      "<h1>Titre_1</h1>\n",
      "<p>Paragraphe_1</p>\n",
      "\n",
      "<!-- commentaires -->\n",
      "\n",
      "</body>\n",
      "</html> \n",
      "\n",
      "********************************************************************************\n",
      "\n",
      " <!DOCTYPE html>\n",
      "<html>\n",
      "<head>\n",
      "<title>Page Title</title>\n",
      "</head>\n",
      "<body>\n",
      "\n",
      "<h1>Titre_1</h1>\n",
      "<p>Paragraphe_1</p>\n",
      "\n",
      "<p>J'AI 16 ANS.</p>\n",
      "<!-- commentaires -->\n",
      "\n",
      "</body>\n",
      "</html> \n",
      "\n"
     ]
    }
   ],
   "source": [
    "f = open('page_1.html','r', encoding='utf8') # ouverture du fichier qui est dans le même répertoire que mon script.\n",
    "contenu = f.read()# la fonction open attend deux arguments : le nomn du cfichier à ouvrir (ici exemple.txt), \n",
    "print(contenu) # et le mode d'ouverture 'r' signifie lecture ici. \n",
    "print(\"********************************************************************************\")\n",
    "f.close()\n",
    "\n",
    "contenu = ajouter(contenu,\"<!-- commentaires -->\",\"<p>J'AI 16 ANS.</p>\")\n",
    "\n",
    "# Exemple pour le mode 'w' \n",
    "f =  open('maPage_1.html','w', encoding='utf8') #exemple pour le mode 'w'\n",
    "f.write(contenu) # Change le contenu du fichier\n",
    "f.close()\n",
    "\n",
    "f = open('maPage_1.html','r', encoding='utf8') #On recharge en lecture le ficher\n",
    "contenu= f.read() #Lecture\n",
    "print(contenu) #visualisation"
   ]
  },
  {
   "cell_type": "markdown",
   "metadata": {},
   "source": [
    "#### Préparation d'un fichier html en vue d'ajouts.\n",
    "\n",
    "Si nous savons où nous souhaitons apporter des ajouts dans notre fichier html il est pratique de positionnner des commentaires à ces endroits. Ces commentaires n'apparaissent pas dans le navigateur mais facilitent les opérations d'ajout.\n",
    "\n",
    "Dans le fichier *page_2.html* des commentaires ont été placé à cet effet : \n",
    ">- <\\!--ajout1--> , pour identifier une première position\n",
    ">- <\\!--ajout2--> , pour identifier une deuxième position"
   ]
  },
  {
   "cell_type": "code",
   "execution_count": 8,
   "metadata": {},
   "outputs": [
    {
     "name": "stdout",
     "output_type": "stream",
     "text": [
      "\n",
      " <!DOCTYPE html>\n",
      "<html>\n",
      "<head>\n",
      "<title>Page Title</title>\n",
      "</head>\n",
      "<body>\n",
      "\n",
      "<h1>Titre_1</h1>\n",
      "<p>Paragraphe_1</p>\n",
      "\n",
      "<!--ajout1-->\n",
      "\n",
      "<p>Paragraphe_2</p>\n",
      "\n",
      "<!--ajout2-->\n",
      "\n",
      "</body>\n",
      "</html> \n",
      "\n",
      "********************************************************************************\n",
      "\n",
      " <!DOCTYPE html>\n",
      "<html>\n",
      "<head>\n",
      "<title>Page Title</title>\n",
      "</head>\n",
      "<body>\n",
      "\n",
      "<h1>Titre_1</h1>\n",
      "<p>Paragraphe_1</p>\n",
      "\n",
      "<p>J'aime le basket</p>\n",
      "<!--ajout1-->\n",
      "\n",
      "<p>Paragraphe_2</p>\n",
      "\n",
      "<p> Ceci est un essai</p>\n",
      "<!--ajout2-->\n",
      "\n",
      "</body>\n",
      "</html> \n",
      "\n"
     ]
    }
   ],
   "source": [
    "f = open('page_2.html','r', encoding='utf8') # ouverture du fichier qui est dans le même répertoire que mon script.\n",
    "contenu = f.read()# la fonction open attend deux arguments : le nom du fichier à ouvrir, \n",
    "print(contenu) # et le mode d'ouverture 'r' signifie lecture ici. \n",
    "print(\"********************************************************************************\")\n",
    "f.close()\n",
    "\n",
    "contenu = ajouter(contenu,\"<!--ajout1-->\",\"<p>J'aime le basket</p>\")\n",
    "contenu = ajouter(contenu,\"<!--ajout2-->\",\"<p> Ceci est un essai</p>\")\n",
    "# Exemple pour le mode 'w' \n",
    "f =  open('maPage_2.html','w', encoding='utf8') #exemple pour le mode 'w'\n",
    "f.write(contenu) # Change le contenu du fichier\n",
    "f.close()\n",
    "\n",
    "f = open('maPage_2.html','r', encoding='utf8') #On recharge en lecture le ficher\n",
    "contenu= f.read() #Lecture\n",
    "print(contenu) #visualisation"
   ]
  },
  {
   "cell_type": "markdown",
   "metadata": {},
   "source": [
    "#### Application au dessin de cercles sur la carte\n",
    "\n",
    "Nous allons ajouter au fichier html contenant notre carte les lignes qui correspondent au dessin d'un cercle."
   ]
  },
  {
   "cell_type": "code",
   "execution_count": 9,
   "metadata": {},
   "outputs": [],
   "source": [
    "# on utilise les triples guillemets pour éviter tous les soucis liés à la présence\n",
    "# de \" ou de ' dans la chaine de caractère à ajouter\n",
    "dessinerCercle=\"\"\"L.circle([47.938, 1.91], 500, {\n",
    "color: 'red',\n",
    "fillColor: '#f03',\n",
    "fillOpacity: 0.5\n",
    "}).addTo(mymap).bindPopup(\"I am a circle.\");\"\"\"\n",
    "\n",
    "\n",
    "# on récupère un fichier vierge\n",
    "f=open('copie de example_modif.html','r')\n",
    "content_f=f.read()\n",
    "f.close()\n",
    "# print(content_f) on évite d'afficher le contenu de ce fichier\n",
    "# c'est trop long !!!\n",
    "\n",
    "# on crée une copie appelée carte_0.html\n",
    "f =  open('maCarte_0.html','w', encoding='utf8') #exemple pour le mode 'w'\n",
    "f.write(content_f)\n",
    "f.close()\n",
    "\n",
    "# on prend la chaine de caractère content_f qui correspond à l'ensemble du fichier\n",
    "# dans cette chaine l'identifiant de position est <!-- circuit -->\n",
    "# on ajoute à cet endroit notre chaine de caractères dessinerCercle \n",
    "content_f = ajouter(content_f,\"<!-- circuit -->\",dessinerCercle)\n",
    "\n",
    "# on enregistre le contenu de content_f modifié dans maCarte_1.html\n",
    "f =  open('maCarte_1.html','w', encoding='utf8') #exemple pour le mode 'w'\n",
    "f.write(content_f) # Change le contenu du fichier\n",
    "f.close()\n",
    "\n",
    "# Visualisez maCarte_0.html et maCarte_1.html dans un navigateur pour voir le résultat"
   ]
  },
  {
   "cell_type": "markdown",
   "metadata": {},
   "source": [
    "#### La touche finale\n",
    "\n",
    "On ne souhaitera pas toujours positionner le cercle au même endroit, avec le même diamètre. Il serait bon de pouvoir préciser cela lors de l'appel de la fonction ajouter. Par exemple :\n",
    "\n",
    "content_f = ajouter(content_f,\"<\\!-- circuit -->\",cercle(47.938,1.91,500))\n",
    "\n",
    "Pour cela écrivons une fonction dessinerCercle qui prenne en paramètres la laititude, la longitude et le diamètre.\n"
   ]
  },
  {
   "cell_type": "code",
   "execution_count": 10,
   "metadata": {},
   "outputs": [],
   "source": [
    "def cercle(lat, long, diametre):\n",
    "    dessinerCercle=\"\"\"L.circle([47.938, 1.91], 500, {\n",
    "color: 'red',\n",
    "fillColor: '#f03',\n",
    "fillOpacity: 0.5\n",
    "}).addTo(mymap).bindPopup(\"I am a circle.\");\"\"\"\n",
    "  \n",
    "# on utilise à nouveau la fonction remplacer()\n",
    "# on prend soin de convertir les valeurs numériques lat, long\n",
    "# et diamètre en chaine de caractères (string) d'ou str(lat)\n",
    "    dessinerCercle = dessinerCercle.replace(\"47.938\",str(lat))\n",
    "    dessinerCercle = dessinerCercle.replace(\"1.91\",str(long))\n",
    "    dessinerCercle = dessinerCercle.replace(\"500\",str(diametre))\n",
    "    \n",
    "    return dessinerCercle\n",
    "# ------------------------------------------------------------\n",
    "# même opération qu'à la cellule précédente mais en précisant\n",
    "# la position et le diamètre souhaités pour le disque\n",
    "# ------------------------------------------------------------\n",
    "# on récupère un fichier vierge\n",
    "f=open('copie de example_modif.html','r')\n",
    "content_f=f.read()\n",
    "f.close()\n",
    "# print(content_f) on évite d'afficher, c'est trop long !!!\n",
    "\n",
    "# copie du fichier d'origine\n",
    "f =  open('maCarte_0.html','w', encoding='utf8') #exemple pour le mode 'w'\n",
    "f.write(content_f) # Ecrire le contenu du fichier\n",
    "f.close()\n",
    "\n",
    "# ajout d'un disque en 1 seule ligne\n",
    "# dans ce fichier l'identifiant de position est <!-- circuit -->\n",
    "content_f = ajouter(content_f,\"<!-- circuit -->\",cercle(47.940,1.92,200))\n",
    "\n",
    "# enregistrement du contenu modifié dans maCarte_1.html\n",
    "f =  open('maCarte_1.html','w', encoding='utf8') #exemple pour le mode 'w'\n",
    "f.write(content_f) # Change le contenu du fichier\n",
    "f.close()"
   ]
  },
  {
   "cell_type": "markdown",
   "metadata": {},
   "source": [
    "## A vous de jouer!\n",
    "\n",
    "Si vous avez compris le contenu des cellules précédentes, vous êtes capable de réaliser un travail à peu près identique pour positionner des icones sur la carte.\n",
    "\n",
    ">- ajouter une icone à un endroit sur la carte\n",
    ">- créer une fonction pour ajouter une icone à un endroit précis sur la carte. Les paramètres préciseront le nom, la position, le contenu du popup lors d'un clic sur l'icone,...."
   ]
  },
  {
   "cell_type": "code",
   "execution_count": 1,
   "metadata": {},
   "outputs": [
    {
     "ename": "NameError",
     "evalue": "name 'ajouter' is not defined",
     "output_type": "error",
     "traceback": [
      "\u001b[1;31m---------------------------------------------------------------------------\u001b[0m",
      "\u001b[1;31mNameError\u001b[0m                                 Traceback (most recent call last)",
      "\u001b[1;32m<ipython-input-1-e9d20d64df60>\u001b[0m in \u001b[0;36m<module>\u001b[1;34m()\u001b[0m\n\u001b[0;32m     17\u001b[0m \u001b[1;31m# ajout d'un disque en 1 seule ligne\u001b[0m\u001b[1;33m\u001b[0m\u001b[1;33m\u001b[0m\u001b[0m\n\u001b[0;32m     18\u001b[0m \u001b[1;31m# dans ce fichier l'identifiant de position est <!-- circuit -->\u001b[0m\u001b[1;33m\u001b[0m\u001b[1;33m\u001b[0m\u001b[0m\n\u001b[1;32m---> 19\u001b[1;33m \u001b[0mcontent_f\u001b[0m \u001b[1;33m=\u001b[0m \u001b[0majouter\u001b[0m\u001b[1;33m(\u001b[0m\u001b[0mcontent_f\u001b[0m\u001b[1;33m,\u001b[0m\u001b[1;34m\"<!-- circuit -->\"\u001b[0m\u001b[1;33m,\u001b[0m\u001b[0mcercle\u001b[0m\u001b[1;33m(\u001b[0m\u001b[1;36m47.940\u001b[0m\u001b[1;33m,\u001b[0m\u001b[1;36m1.92\u001b[0m\u001b[1;33m,\u001b[0m\u001b[1;36m200\u001b[0m\u001b[1;33m)\u001b[0m\u001b[1;33m)\u001b[0m\u001b[1;33m\u001b[0m\u001b[0m\n\u001b[0m\u001b[0;32m     20\u001b[0m \u001b[0mcontent_f\u001b[0m \u001b[1;33m=\u001b[0m \u001b[0majouter\u001b[0m\u001b[1;33m(\u001b[0m\u001b[0mcontent_f\u001b[0m\u001b[1;33m,\u001b[0m\u001b[1;34m\"<!-- circuit -->\"\u001b[0m\u001b[1;33m,\u001b[0m\u001b[0mmarker\u001b[0m\u001b[1;33m)\u001b[0m\u001b[1;33m\u001b[0m\u001b[0m\n\u001b[0;32m     21\u001b[0m \u001b[1;33m\u001b[0m\u001b[0m\n",
      "\u001b[1;31mNameError\u001b[0m: name 'ajouter' is not defined"
     ]
    }
   ],
   "source": [
    "marker= \"\"\"var p6 = L.marker([47.95, 1.90],{opacity:0.7 , icon: myIcon}).addTo(mymap)\n",
    ".bindPopup(\"<b>bonjour!</b><br/>I am a popup.\");\"\"\"\n",
    "# le popup est sur deux lignes <br/>\n",
    "# bonjour! est écrit en gras <b> </b>   b pour bold = gras\n",
    "    \n",
    "# on récupère un fichier vierge\n",
    "f=open('copie de example_modif.html','r')\n",
    "content_f=f.read()\n",
    "f.close()\n",
    "# print(content_f) on évite d'afficher, c'est trop long !!!\n",
    "\n",
    "# copie du fichier d'origine\n",
    "f =  open('maCarte_0.html','w', encoding='utf8') #exemple pour le mode 'w'\n",
    "f.write(content_f) # Ecrire le contenu du fichier\n",
    "f.close()\n",
    "\n",
    "# ajout d'un disque en 1 seule ligne\n",
    "# dans ce fichier l'identifiant de position est <!-- circuit -->\n",
    "content_f = ajouter(content_f,\"<!-- circuit -->\",cercle(47.940,1.92,200))\n",
    "content_f = ajouter(content_f,\"<!-- circuit -->\",marker)\n",
    "\n",
    "# enregistrement du contenu modifié dans maCarte_1.html\n",
    "f =  open('maCarte_1.html','w', encoding='utf8') #exemple pour le mode 'w'\n",
    "f.write(content_f) # Change le contenu du fichier\n",
    "f.close()"
   ]
  }
 ],
 "metadata": {
  "kernelspec": {
   "display_name": "Python 3",
   "language": "python",
   "name": "python3"
  },
  "language_info": {
   "codemirror_mode": {
    "name": "ipython",
    "version": 3
   },
   "file_extension": ".py",
   "mimetype": "text/x-python",
   "name": "python",
   "nbconvert_exporter": "python",
   "pygments_lexer": "ipython3",
   "version": "3.6.5"
  }
 },
 "nbformat": 4,
 "nbformat_minor": 2
}
